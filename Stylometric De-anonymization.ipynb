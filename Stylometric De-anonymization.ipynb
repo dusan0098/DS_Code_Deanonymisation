{
 "cells": [
  {
   "cell_type": "code",
   "execution_count": 1,
   "id": "2b73a2f8-1e19-47e0-ab08-503f743694ef",
   "metadata": {},
   "outputs": [],
   "source": [
    "#!pip install catboost\n",
    "#!pip install ipywidgets\n",
    "#!jupyter nbextension enable --py widgetsnbextension\n",
    "#!pip install -U tqdm"
   ]
  },
  {
   "cell_type": "markdown",
   "id": "b9c9503f-01c8-453e-981b-c71ffc0fe77e",
   "metadata": {},
   "source": [
    "## Necessary imports"
   ]
  },
  {
   "cell_type": "code",
   "execution_count": 1,
   "id": "5b000c77-3792-4a55-aa73-08d0f637b8ef",
   "metadata": {},
   "outputs": [],
   "source": [
    "import numpy as np\n",
    "import pandas as pd\n",
    "import matplotlib.pyplot as plt\n",
    "import json\n",
    "import random\n",
    "import warnings\n",
    "import pickle\n",
    "from tqdm.auto import tqdm\n",
    "\n",
    "from functions.helper import *\n",
    "from functions.feature_extractor import feature_extraction\n",
    "\n",
    "warnings.filterwarnings('ignore')\n"
   ]
  },
  {
   "cell_type": "markdown",
   "id": "7df12343-ac86-478d-a3ee-65f040286ad4",
   "metadata": {},
   "source": [
    "### Converting original dataset to dataframes\n",
    "Takes parameters programming language and year\n",
    "\n",
    "**Currently unnecessary since the contents of the .csv are already stored in the pickle files.**"
   ]
  },
  {
   "cell_type": "code",
   "execution_count": 2,
   "id": "e8b20ea6-aee4-4dd7-a299-ca54d5738b19",
   "metadata": {},
   "outputs": [],
   "source": [
    "# df_java_raw = dataframe_from_csv(suffix = \".java\", year = \"2009\")\n",
    "# df_cpp_raw = dataframe_from_csv(suffix = \".cpp\", year = \"2009\")"
   ]
  },
  {
   "cell_type": "markdown",
   "id": "98a06a1b-6567-480d-a170-f88e4a3ca5ee",
   "metadata": {},
   "source": [
    "### Saving dataset as pickle file"
   ]
  },
  {
   "cell_type": "code",
   "execution_count": 3,
   "id": "7aee4f4d-418c-47dc-b407-dfd3c0281ba6",
   "metadata": {},
   "outputs": [],
   "source": [
    "# with open('saved/df_java_raw.pickle', 'wb') as handle:\n",
    "#     pickle.dump(df_java_raw, handle, protocol=pickle.HIGHEST_PROTOCOL)\n",
    "# with open('saved/df_cpp_raw.pickle', 'wb') as handle:\n",
    "#     pickle.dump(df_cpp_raw, handle, protocol=pickle.HIGHEST_PROTOCOL)"
   ]
  },
  {
   "cell_type": "markdown",
   "id": "b9b763a5-7b62-438d-82dc-6bffd4df5051",
   "metadata": {},
   "source": [
    "## Begin here: Dataset and preprocessing\n",
    "### Import datasets using pickle"
   ]
  },
  {
   "cell_type": "code",
   "execution_count": 4,
   "id": "a1bdfb1c-f3f3-4c25-a585-6383b31e20cb",
   "metadata": {},
   "outputs": [
    {
     "name": "stdout",
     "output_type": "stream",
     "text": [
      "Number of files for Java: 12029\n",
      "Number of files for C++: 32403\n"
     ]
    }
   ],
   "source": [
    "# Load pickled data Java\n",
    "with open('saved/df_java_raw.pickle', 'rb') as handle:\n",
    "    df_java_raw = pickle.load(handle)\n",
    "\n",
    "# Load pickled data C++ \n",
    "with open('saved/df_cpp_raw.pickle', 'rb') as handle:\n",
    "    df_cpp_raw = pickle.load(handle)\n",
    "    \n",
    "print(f\"Number of files for Java: {df_java_raw.shape[0]}\")\n",
    "print(f\"Number of files for C++: {df_cpp_raw.shape[0]}\")"
   ]
  },
  {
   "cell_type": "markdown",
   "id": "961386ff-0882-461d-b6ed-68aeda3b9b2f",
   "metadata": {},
   "source": [
    "### Preprocessing dataframe\n",
    "- Removing unnecessary columns and renaming them\n",
    "- Removing rows that cannot be parsed"
   ]
  },
  {
   "cell_type": "code",
   "execution_count": 5,
   "id": "92c3c8b1-ceef-4171-a1d6-08e8670c9a5e",
   "metadata": {},
   "outputs": [
    {
     "name": "stdout",
     "output_type": "stream",
     "text": [
      "Number of files after preprocessing - Java: 12022\n",
      "Number of files after preprocessing - C++: 32266\n"
     ]
    }
   ],
   "source": [
    "# take important columns and rename\n",
    "df_java = prepare_dataframe(df_java_raw)\n",
    "print(f\"Number of files after preprocessing - Java: {df_java.shape[0]}\")\n",
    "\n",
    "df_cpp = prepare_dataframe(df_cpp_raw)\n",
    "print(f\"Number of files after preprocessing - C++: {df_cpp.shape[0]}\")"
   ]
  },
  {
   "cell_type": "markdown",
   "id": "4ed992c5-42ae-48a9-ab8f-b729f786fa9c",
   "metadata": {},
   "source": [
    "## Feature engineering\n",
    "### Defining sampling hyperparameters\n"
   ]
  },
  {
   "cell_type": "code",
   "execution_count": 6,
   "id": "a46cab09-4a42-496f-bb7d-011bef254b33",
   "metadata": {},
   "outputs": [],
   "source": [
    "# Hyperparameters for the sample\n",
    "N_FILES = 9\n",
    "N_USERS = 250\n",
    "\n",
    "# set seeds\n",
    "random.seed(0)\n",
    "np.random.seed(0)"
   ]
  },
  {
   "cell_type": "markdown",
   "id": "ce194fad-c252-4944-a65e-f8281dca34db",
   "metadata": {},
   "source": [
    "### Sampling users and their code for feature extraction\n"
   ]
  },
  {
   "cell_type": "code",
   "execution_count": 7,
   "id": "525d27de-b6b5-4b08-86aa-81c591d68eaf",
   "metadata": {},
   "outputs": [
    {
     "name": "stdout",
     "output_type": "stream",
     "text": [
      "Number of samples for Java: 2250\n",
      "Number of samples for C++: 2250\n"
     ]
    }
   ],
   "source": [
    "# generate samples for n_files from n_users - Java\n",
    "df_java_sample = sample_from_dataframe(df_java, N_FILES, N_USERS)\n",
    "print(f\"Number of samples for Java: {df_java_sample.shape[0]}\")\n",
    "\n",
    "# generate samples for n_files from n_users - C++\n",
    "df_cpp_sample = sample_from_dataframe(df_cpp, N_FILES, N_USERS)\n",
    "print(f\"Number of samples for C++: {df_cpp_sample.shape[0]}\")"
   ]
  },
  {
   "cell_type": "markdown",
   "id": "b1eedbf6-4005-4542-9de0-6aff2cb511f3",
   "metadata": {},
   "source": [
    "### Saving sampled users for generalization experiment"
   ]
  },
  {
   "cell_type": "code",
   "execution_count": 8,
   "id": "c30b72f2",
   "metadata": {},
   "outputs": [],
   "source": [
    "sampled_users = df_java_sample[['user_id','username']].drop_duplicates(ignore_index=True)\n",
    "\n",
    "with open('saved/sampled_users.pickle', 'wb') as handle:\n",
    "    pickle.dump(sampled_users, handle, protocol=pickle.HIGHEST_PROTOCOL)"
   ]
  },
  {
   "cell_type": "markdown",
   "id": "7fbb2bdf-1ea3-4fde-b74b-e8b32ad731d3",
   "metadata": {},
   "source": [
    "### Performing feature extraction for each feature type"
   ]
  },
  {
   "cell_type": "code",
   "execution_count": 9,
   "id": "01b53d8d-5df7-40bd-9654-0bf64de4faa6",
   "metadata": {},
   "outputs": [
    {
     "data": {
      "application/vnd.jupyter.widget-view+json": {
       "model_id": "5c192df1151d4a9bb06e98ef9e39048e",
       "version_major": 2,
       "version_minor": 0
      },
      "text/plain": [
       "  0%|          | 0/2250 [00:00<?, ?it/s]"
      ]
     },
     "metadata": {},
     "output_type": "display_data"
    },
    {
     "name": "stdout",
     "output_type": "stream",
     "text": [
      "Number of features for Java: 7736\n"
     ]
    }
   ],
   "source": [
    "# extract features from the code - full feature set\n",
    "java_features_full = pd.DataFrame(feature_extraction(\n",
    "    df_java_sample, flag_lexical=True, flag_syntax=True))\n",
    "print(f\"Number of features for Java: {java_features_full.shape[1]}\")"
   ]
  },
  {
   "cell_type": "code",
   "execution_count": 10,
   "id": "a50fd762-c7fc-418d-a310-9e059e87e8d9",
   "metadata": {},
   "outputs": [
    {
     "data": {
      "application/vnd.jupyter.widget-view+json": {
       "model_id": "bce9c7421ea94f458f84f17bdb8eb46b",
       "version_major": 2,
       "version_minor": 0
      },
      "text/plain": [
       "  0%|          | 0/2250 [00:00<?, ?it/s]"
      ]
     },
     "metadata": {},
     "output_type": "display_data"
    },
    {
     "name": "stdout",
     "output_type": "stream",
     "text": [
      "Number of features for Java: 7\n"
     ]
    }
   ],
   "source": [
    "# extract features from the code - only layout features\n",
    "java_features_layout = pd.DataFrame(feature_extraction(\n",
    "    df_java_sample, flag_lexical=False, flag_syntax=False))\n",
    "print(f\"Number of features for Java: {java_features_layout.shape[1]}\")"
   ]
  },
  {
   "cell_type": "code",
   "execution_count": 11,
   "id": "0276696e-8fad-473f-b34e-4b716f3164d0",
   "metadata": {},
   "outputs": [
    {
     "data": {
      "application/vnd.jupyter.widget-view+json": {
       "model_id": "7de020962d3e4ecd8e5d9d6e19592a5e",
       "version_major": 2,
       "version_minor": 0
      },
      "text/plain": [
       "  0%|          | 0/2250 [00:00<?, ?it/s]"
      ]
     },
     "metadata": {},
     "output_type": "display_data"
    },
    {
     "name": "stdout",
     "output_type": "stream",
     "text": [
      "Number of features for Java: 419\n"
     ]
    }
   ],
   "source": [
    "# extract features from the code - layout + syntax features\n",
    "java_features_syntax = pd.DataFrame(feature_extraction(\n",
    "    df_java_sample, flag_lexical=False, flag_syntax=True))\n",
    "print(f\"Number of features for Java: {java_features_syntax.shape[1]}\")"
   ]
  },
  {
   "cell_type": "code",
   "execution_count": 12,
   "id": "e7ecf8c1-7bc4-46c3-8b99-602f58c80cba",
   "metadata": {},
   "outputs": [
    {
     "data": {
      "application/vnd.jupyter.widget-view+json": {
       "model_id": "8ed70a327ea44fc4905bc22662e059df",
       "version_major": 2,
       "version_minor": 0
      },
      "text/plain": [
       "  0%|          | 0/2250 [00:00<?, ?it/s]"
      ]
     },
     "metadata": {},
     "output_type": "display_data"
    },
    {
     "name": "stdout",
     "output_type": "stream",
     "text": [
      "Number of features for Java: 7324\n"
     ]
    }
   ],
   "source": [
    "# extract features from the code - layout + lexical features\n",
    "java_features_lexical = pd.DataFrame(feature_extraction(\n",
    "    df_java_sample, flag_lexical=True, flag_syntax=False))\n",
    "print(f\"Number of features for Java: {java_features_lexical.shape[1]}\")"
   ]
  },
  {
   "cell_type": "code",
   "execution_count": 13,
   "id": "47d12e4a-f061-4a13-8967-e1733753857d",
   "metadata": {},
   "outputs": [
    {
     "data": {
      "application/vnd.jupyter.widget-view+json": {
       "model_id": "f2c3d6d53132473aab61910b3ed7b2c6",
       "version_major": 2,
       "version_minor": 0
      },
      "text/plain": [
       "  0%|          | 0/2250 [00:00<?, ?it/s]"
      ]
     },
     "metadata": {},
     "output_type": "display_data"
    },
    {
     "name": "stdout",
     "output_type": "stream",
     "text": [
      "Number of features for C++: 7\n"
     ]
    }
   ],
   "source": [
    "# extract features from the code - only layout features in C++\n",
    "cpp_features_layout = pd.DataFrame(feature_extraction(\n",
    "    df_cpp_sample, flag_lexical=False, flag_syntax=False))\n",
    "print(f\"Number of features for C++: {cpp_features_layout.shape[1]}\")"
   ]
  },
  {
   "cell_type": "markdown",
   "id": "52668591-545b-4521-82a1-19b58e246711",
   "metadata": {},
   "source": [
    "## Feature Selection\n",
    "Based on the mutual information criterion we keep the top N features in each setting. "
   ]
  },
  {
   "cell_type": "code",
   "execution_count": 14,
   "id": "a8ce557b-6a19-430a-a87b-10cbcbef64a2",
   "metadata": {},
   "outputs": [
    {
     "name": "stdout",
     "output_type": "stream",
     "text": [
      "Selecting best features...\n",
      "Feature selection lasted: 115.952013\n",
      "Number of features selected: 2500\n",
      "Selecting best features...\n",
      "Feature selection lasted: 0.071202\n",
      "Number of features selected: 6\n",
      "Selecting best features...\n",
      "Feature selection lasted: 130.372651\n",
      "Number of features selected: 2500\n",
      "Selecting best features...\n",
      "Feature selection lasted: 4.604099\n",
      "Number of features selected: 418\n",
      "Selecting best features...\n",
      "Feature selection lasted: 0.056897\n",
      "Number of features selected: 6\n"
     ]
    }
   ],
   "source": [
    "from functions.helper import feature_selection\n",
    "N_FEATURES = 2500\n",
    "\n",
    "# dictionary to save all feature sets\n",
    "dict_features={}\n",
    "\n",
    "dict_features[\"java_features_full\"] = feature_selection(java_features_full, N_FEATURES)\n",
    "dict_features[\"java_features_layout\"]  = feature_selection(java_features_layout, N_FEATURES)\n",
    "dict_features[\"java_features_lexical\"]  = feature_selection(java_features_lexical, N_FEATURES)\n",
    "dict_features[\"java_features_syntax\"]  = feature_selection(java_features_syntax, N_FEATURES)\n",
    "dict_features[\"cpp_features_layout\"]  = feature_selection(cpp_features_layout, N_FEATURES)"
   ]
  },
  {
   "cell_type": "code",
   "execution_count": 15,
   "id": "c2be3e77-59c8-4316-8269-f06c675166f4",
   "metadata": {},
   "outputs": [],
   "source": [
    "# Store dictionary with N best features for each combination of feature types\n",
    "# each language dataset has 250 users with 9 files each\n",
    "with open('saved/dict_features.pickle', 'wb') as handle:\n",
    "    pickle.dump(dict_features, handle, protocol=pickle.HIGHEST_PROTOCOL)"
   ]
  },
  {
   "cell_type": "markdown",
   "id": "3b68e1a0-4597-4f6f-a6b7-d12ba6d9eaee",
   "metadata": {},
   "source": [
    "### Import pickled features after selection\n",
    "We do this so we don't have to recalculate the best features every run.\n"
   ]
  },
  {
   "cell_type": "code",
   "execution_count": 16,
   "id": "6a6fa086-44a9-4f33-b777-d6534249a2b0",
   "metadata": {},
   "outputs": [
    {
     "name": "stdout",
     "output_type": "stream",
     "text": [
      "Setting java_features_full: \n",
      " Has the following feature dimensions: (2250, 2500), and target dimension: (2250,)\n",
      "Setting java_features_layout: \n",
      " Has the following feature dimensions: (2250, 6), and target dimension: (2250,)\n",
      "Setting java_features_lexical: \n",
      " Has the following feature dimensions: (2250, 2500), and target dimension: (2250,)\n",
      "Setting java_features_syntax: \n",
      " Has the following feature dimensions: (2250, 418), and target dimension: (2250,)\n",
      "Setting cpp_features_layout: \n",
      " Has the following feature dimensions: (2250, 6), and target dimension: (2250,)\n"
     ]
    }
   ],
   "source": [
    "# Load data (deserialize)\n",
    "with open('saved/dict_features.pickle', 'rb') as handle:\n",
    "    dict_features = pickle.load(handle)\n",
    "for key, value in dict_features.items():\n",
    "    print (f\"Setting {key}: \\n Has the following feature dimensions: {value['X'].shape}, and target dimension: {value['y'].shape}\")"
   ]
  },
  {
   "cell_type": "markdown",
   "id": "3b34ae13-a367-4971-a710-5da5a487400a",
   "metadata": {},
   "source": [
    "## **Modelling and Predictions**\n",
    "- After running tests to determine the number of features, we found that 750 gives us the best performance"
   ]
  },
  {
   "cell_type": "code",
   "execution_count": 17,
   "id": "117ac99f-f64a-4d47-b734-c46a7d462308",
   "metadata": {},
   "outputs": [
    {
     "name": "stdout",
     "output_type": "stream",
     "text": [
      "Setting java_features_full: \n",
      " Has the following feature dimensions: (2250, 750)\n",
      "Setting java_features_layout: \n",
      " Has the following feature dimensions: (2250, 6)\n",
      "Setting java_features_lexical: \n",
      " Has the following feature dimensions: (2250, 750)\n",
      "Setting java_features_syntax: \n",
      " Has the following feature dimensions: (2250, 418)\n",
      "Setting cpp_features_layout: \n",
      " Has the following feature dimensions: (2250, 6)\n"
     ]
    }
   ],
   "source": [
    "# take only best 750 features\n",
    "num_features = 750\n",
    "for key, value in dict_features.items():\n",
    "    num_features_curr = np.min([num_features, value[\"X\"].shape[1]])\n",
    "    value[\"X\"] = value[\"X\"].iloc[:,:num_features_curr]\n",
    "    print (f\"Setting {key}: \\n Has the following feature dimensions: {value['X'].shape}\")\n"
   ]
  },
  {
   "cell_type": "markdown",
   "id": "ca71c29b-69c9-482b-9c41-2fb3d3f32a69",
   "metadata": {},
   "source": [
    "### Random Forest"
   ]
  },
  {
   "cell_type": "code",
   "execution_count": 18,
   "id": "10d52b95-806a-4b8a-abbc-ab174f1c53e6",
   "metadata": {
    "scrolled": true,
    "tags": []
   },
   "outputs": [
    {
     "name": "stdout",
     "output_type": "stream",
     "text": [
      "java_features_full\n",
      "Validation #1\n",
      "Train accuracy: 1.00\n",
      "Valid accuracy: 0.95\n",
      "\n",
      "Validation #2\n",
      "Train accuracy: 1.00\n",
      "Valid accuracy: 0.95\n",
      "\n",
      "Validation #3\n",
      "Train accuracy: 1.00\n",
      "Valid accuracy: 0.95\n",
      "\n",
      "java_features_layout\n",
      "Validation #1\n",
      "Train accuracy: 1.00\n",
      "Valid accuracy: 0.45\n",
      "\n",
      "Validation #2\n",
      "Train accuracy: 1.00\n",
      "Valid accuracy: 0.43\n",
      "\n",
      "Validation #3\n",
      "Train accuracy: 1.00\n",
      "Valid accuracy: 0.43\n",
      "\n",
      "java_features_lexical\n",
      "Validation #1\n",
      "Train accuracy: 1.00\n",
      "Valid accuracy: 0.96\n",
      "\n",
      "Validation #2\n",
      "Train accuracy: 1.00\n",
      "Valid accuracy: 0.97\n",
      "\n",
      "Validation #3\n",
      "Train accuracy: 1.00\n",
      "Valid accuracy: 0.96\n",
      "\n",
      "java_features_syntax\n",
      "Validation #1\n",
      "Train accuracy: 1.00\n",
      "Valid accuracy: 0.82\n",
      "\n",
      "Validation #2\n",
      "Train accuracy: 1.00\n",
      "Valid accuracy: 0.82\n",
      "\n",
      "Validation #3\n",
      "Train accuracy: 1.00\n",
      "Valid accuracy: 0.81\n",
      "\n",
      "cpp_features_layout\n",
      "Validation #1\n",
      "Train accuracy: 1.00\n",
      "Valid accuracy: 0.47\n",
      "\n",
      "Validation #2\n",
      "Train accuracy: 1.00\n",
      "Valid accuracy: 0.48\n",
      "\n",
      "Validation #3\n",
      "Train accuracy: 1.00\n",
      "Valid accuracy: 0.45\n",
      "\n"
     ]
    }
   ],
   "source": [
    "# training random forest classifier for each setting and saving validation accuracy\n",
    "from functions.models import *\n",
    "\n",
    "for key, value in dict_features.items():\n",
    "    X=value[\"X\"]\n",
    "    y=value[\"y\"]\n",
    "    print(key)\n",
    "    train_accs, valid_accs = random_forest_classifier(X, y)\n",
    "    # add validation accuracy to dictionary\n",
    "    dict_features[key][\"forest_valid_acc\"] = valid_accs\n",
    "\n",
    "dict_results = dict_features\n",
    "# pickle updated dictionary\n",
    "with open('saved/dict_results.pickle', 'wb') as handle:\n",
    "    pickle.dump(dict_results, handle, protocol=pickle.HIGHEST_PROTOCOL)"
   ]
  },
  {
   "cell_type": "markdown",
   "id": "e4c15a6d-85d0-4a90-b1f5-f0c8ce834149",
   "metadata": {},
   "source": [
    "### Catboost"
   ]
  },
  {
   "cell_type": "code",
   "execution_count": 19,
   "id": "e3bc22e1-f639-4241-ae8c-9c63bdbb22a3",
   "metadata": {
    "scrolled": true,
    "tags": []
   },
   "outputs": [
    {
     "name": "stdout",
     "output_type": "stream",
     "text": [
      "java_features_full\n",
      "Validation #1\n",
      "Train accuracy: 1.00\n",
      "Valid accuracy: 0.94\n",
      "\n",
      "Validation #2\n",
      "Train accuracy: 1.00\n",
      "Valid accuracy: 0.93\n",
      "\n",
      "Validation #3\n",
      "Train accuracy: 1.00\n",
      "Valid accuracy: 0.95\n",
      "\n",
      "java_features_layout\n",
      "Validation #1\n",
      "Train accuracy: 0.78\n",
      "Valid accuracy: 0.30\n",
      "\n",
      "Validation #2\n",
      "Train accuracy: 0.84\n",
      "Valid accuracy: 0.35\n",
      "\n",
      "Validation #3\n",
      "Train accuracy: 0.86\n",
      "Valid accuracy: 0.35\n",
      "\n",
      "java_features_lexical\n",
      "Validation #1\n",
      "Train accuracy: 1.00\n",
      "Valid accuracy: 0.96\n",
      "\n",
      "Validation #2\n",
      "Train accuracy: 1.00\n",
      "Valid accuracy: 0.95\n",
      "\n",
      "Validation #3\n",
      "Train accuracy: 1.00\n",
      "Valid accuracy: 0.94\n",
      "\n",
      "java_features_syntax\n",
      "Validation #1\n",
      "Train accuracy: 1.00\n",
      "Valid accuracy: 0.80\n",
      "\n",
      "Validation #2\n",
      "Train accuracy: 1.00\n",
      "Valid accuracy: 0.81\n",
      "\n",
      "Validation #3\n",
      "Train accuracy: 1.00\n",
      "Valid accuracy: 0.79\n",
      "\n",
      "cpp_features_layout\n",
      "Validation #1\n",
      "Train accuracy: 0.90\n",
      "Valid accuracy: 0.37\n",
      "\n",
      "Validation #2\n",
      "Train accuracy: 0.85\n",
      "Valid accuracy: 0.35\n",
      "\n",
      "Validation #3\n",
      "Train accuracy: 0.91\n",
      "Valid accuracy: 0.41\n",
      "\n"
     ]
    }
   ],
   "source": [
    "# training catboost classifier for each setting and saving validation accuracy\n",
    "from functions.models import *\n",
    "\n",
    "for key, value in dict_features.items():\n",
    "    X=value[\"X\"]\n",
    "    y=value[\"y\"]\n",
    "    \n",
    "    print(key)\n",
    "    \n",
    "    # for regular feature sets\n",
    "    rsm = 0.02\n",
    "    iterations = 500\n",
    "    \n",
    "    # for small feature sets\n",
    "    if X.shape[1] < 10:\n",
    "        rsm = 0.5\n",
    "        iterations = 2000\n",
    "    \n",
    "    train_accs, valid_accs = catboost_classifier(X, y, rsm, iterations)\n",
    "    # add validation accuracy to dictionary\n",
    "    dict_features[key][\"catboost_valid_acc\"] = valid_accs\n",
    "    \n",
    "dict_results = dict_features\n",
    "\n",
    "# pickle updated dictionary\n",
    "with open('saved/dict_results.pickle', 'wb') as handle:\n",
    "    pickle.dump(dict_results, handle, protocol=pickle.HIGHEST_PROTOCOL)"
   ]
  },
  {
   "cell_type": "markdown",
   "id": "18988643-e3aa-4cc0-a5a0-854fb1320e21",
   "metadata": {},
   "source": [
    "## Load Results"
   ]
  },
  {
   "cell_type": "code",
   "execution_count": 20,
   "id": "def33c5c-2d7f-4689-8266-fa526f88a0be",
   "metadata": {},
   "outputs": [],
   "source": [
    "import pickle\n",
    "\n",
    "# Load data (deserialize)\n",
    "with open('saved/dict_results.pickle', 'rb') as handle:\n",
    "    dict_results = pickle.load(handle)\n"
   ]
  },
  {
   "cell_type": "code",
   "execution_count": 21,
   "id": "a0c456ef-191e-4d7b-af4d-ff77b4508583",
   "metadata": {},
   "outputs": [
    {
     "name": "stdout",
     "output_type": "stream",
     "text": [
      "java_features_full: \n",
      " Random Forest: 0.95 \n",
      " CatBoost: 0.94 \n",
      "\n",
      "java_features_layout: \n",
      " Random Forest: 0.44 \n",
      " CatBoost: 0.33 \n",
      "\n",
      "java_features_lexical: \n",
      " Random Forest: 0.96 \n",
      " CatBoost: 0.95 \n",
      "\n",
      "java_features_syntax: \n",
      " Random Forest: 0.82 \n",
      " CatBoost: 0.80 \n",
      "\n",
      "cpp_features_layout: \n",
      " Random Forest: 0.47 \n",
      " CatBoost: 0.38 \n",
      "\n"
     ]
    }
   ],
   "source": [
    "for key, value in dict_results.items():\n",
    "\n",
    "    dict_results[key]['forest_valid_acc_mean'] = np.mean(dict_results[key]['forest_valid_acc'])    \n",
    "    dict_results[key]['catboost_valid_acc_mean'] = np.mean(dict_results[key]['catboost_valid_acc'])\n",
    "    print(f\"{key}: \\n Random Forest: {dict_results[key]['forest_valid_acc_mean']:0.2f} \\n CatBoost: {dict_results[key]['catboost_valid_acc_mean']:0.2f} \\n\")"
   ]
  },
  {
   "cell_type": "code",
   "execution_count": 22,
   "id": "fb6614aa-2438-4a10-ac1b-d2ced2a9dfcd",
   "metadata": {},
   "outputs": [
    {
     "data": {
      "image/png": "[encoded data removed]",
      "text/plain": [
       "<Figure size 640x480 with 1 Axes>"
      ]
     },
     "metadata": {},
     "output_type": "display_data"
    }
   ],
   "source": [
    "keys_list = ['java_features_full',\n",
    " 'java_features_lexical',\n",
    " 'java_features_syntax',\n",
    " 'java_features_layout',\n",
    " 'cpp_features_layout']\n",
    "\n",
    "forest_list = []\n",
    "catboost_list = []\n",
    "for key in keys_list:\n",
    "    forest_list.append(dict_results[key]['forest_valid_acc_mean'])\n",
    "    catboost_list.append(dict_results[key]['catboost_valid_acc_mean'])\n",
    "\n",
    "keys_list = ['all features',\n",
    " 'lexical + layout',\n",
    " 'syntax + layout',\n",
    " 'layout only',\n",
    " 'C++ - layout only']\n",
    "X_axis = np.arange(len(keys_list))\n",
    "\n",
    "plt.rcParams.update(plt.rcParamsDefault)\n",
    "\n",
    "plt.bar(X_axis - 0.2, forest_list, 0.35, label = 'Random Forest', color=\"forestgreen\",edgecolor='black')\n",
    "plt.bar(X_axis + 0.2, catboost_list, 0.35, label = 'CatBoost', color=\"cornflowerblue\",edgecolor='black' )\n",
    "plt.xticks(X_axis, keys_list)\n",
    "plt.xlabel(\"Features\")\n",
    "plt.ylabel(\"Accuracy\")\n",
    "plt.title(\"Average Cross Validation Accuracy\")\n",
    "plt.legend()\n",
    "plt.xticks(rotation=30)\n",
    "plt.show()    \n"
   ]
  },
  {
   "cell_type": "markdown",
   "id": "58272361-37fd-4598-a03d-ee23665803ae",
   "metadata": {},
   "source": [
    "# Adaptation to Expert Programmers\n",
    "- load all java data from pickled file\n",
    "- preprocess as before\n",
    "- determine hard problems: those that have less than 30 solutions\n",
    "- extract expert users: those who can solve at least one of the hard problems\n",
    "- sample code from these users\n",
    "- extract features and train the model"
   ]
  },
  {
   "cell_type": "code",
   "execution_count": 23,
   "id": "15383069-c9b0-44fe-80ba-33d1c28a64a6",
   "metadata": {},
   "outputs": [
    {
     "name": "stdout",
     "output_type": "stream",
     "text": [
      "Number of files for Java: 12029\n",
      "Number of files for Java after preprocessing: 12022\n"
     ]
    }
   ],
   "source": [
    "# Load data Java\n",
    "with open('saved/df_java_raw.pickle', 'rb') as handle:\n",
    "    df_java_raw = pickle.load(handle)\n",
    "print(f\"Number of files for Java: {df_java_raw.shape[0]}\")\n",
    "\n",
    "# take important columns and rename\n",
    "df_java = prepare_dataframe(df_java_raw)\n",
    "print(f\"Number of files for Java after preprocessing: {df_java.shape[0]}\")"
   ]
  },
  {
   "cell_type": "code",
   "execution_count": 24,
   "id": "caa0f5ea-26e1-4180-b19b-56cb13c8d841",
   "metadata": {},
   "outputs": [
    {
     "name": "stdout",
     "output_type": "stream",
     "text": [
      "Number of expert users: 74\n",
      "Number of source code files from exper users: 1136\n"
     ]
    }
   ],
   "source": [
    "# get hard problems\n",
    "hard_problems = get_hard_problems(df_java)\n",
    "# get expert users, ones that have solved hard problems\n",
    "expert_users = get_best_users(df_java, hard_problems)\n",
    "\n",
    "print(f\"Number of expert users: {len(expert_users)}\")\n",
    "df_java_expert = df_java[df_java['username'].isin(expert_users)]\n",
    "print(f\"Number of source code files from exper users: {df_java_expert.shape[0]}\")\n"
   ]
  },
  {
   "cell_type": "markdown",
   "id": "bb0e2374-a3e8-471e-92ba-a9ba10d2a48a",
   "metadata": {},
   "source": [
    "### Resampling\n",
    "Due to the small number of code available for expert users, we had to also create a small version of the full dataset in order to have a fair comparison\n",
    "- 9 files for 65 expert users\n",
    "- 9 files for 65 random users"
   ]
  },
  {
   "cell_type": "code",
   "execution_count": 25,
   "id": "7cf70129-eeae-4cb2-bc2c-601a0d5e7641",
   "metadata": {},
   "outputs": [],
   "source": [
    "# Hyperparameters\n",
    "N_FILES = 9\n",
    "N_USERS = 65\n",
    "\n",
    "# random seeds\n",
    "random.seed(0)\n",
    "np.random.seed(0)"
   ]
  },
  {
   "cell_type": "code",
   "execution_count": 26,
   "id": "fe705854-51b6-43ef-98ff-e4e4447fcde8",
   "metadata": {},
   "outputs": [
    {
     "name": "stdout",
     "output_type": "stream",
     "text": [
      "Number of samples for Java: 585\n"
     ]
    }
   ],
   "source": [
    "# generate samples for n_files from n_users\n",
    "df_java_expert_sample = sample_from_dataframe(df_java_expert, N_FILES, N_USERS)\n",
    "df_java_small_sample = sample_from_dataframe(df_java, N_FILES, N_USERS)\n",
    "\n",
    "print(f\"Number of samples for Java: {df_java_expert_sample.shape[0]}\")"
   ]
  },
  {
   "cell_type": "code",
   "execution_count": 27,
   "id": "88a84ddc-1619-4c3f-9303-78811a2faf85",
   "metadata": {},
   "outputs": [
    {
     "data": {
      "application/vnd.jupyter.widget-view+json": {
       "model_id": "0a9fd1f6948d48279619cc6d0abe6d04",
       "version_major": 2,
       "version_minor": 0
      },
      "text/plain": [
       "  0%|          | 0/585 [00:00<?, ?it/s]"
      ]
     },
     "metadata": {},
     "output_type": "display_data"
    },
    {
     "name": "stdout",
     "output_type": "stream",
     "text": [
      "Number of features for Java: 2745\n"
     ]
    }
   ],
   "source": [
    "# For the expert users\n",
    "# extract features from the code\n",
    "java_expert_features= pd.DataFrame(feature_extraction(\n",
    "    df_java_expert_sample, flag_lexical=True, flag_syntax=True))\n",
    "print(f\"Number of features for Java: {java_expert_features.shape[1]}\")"
   ]
  },
  {
   "cell_type": "code",
   "execution_count": 28,
   "id": "7eed0b7f-d942-485b-a0a4-fe4d0c83c59f",
   "metadata": {},
   "outputs": [
    {
     "data": {
      "application/vnd.jupyter.widget-view+json": {
       "model_id": "8048735b716843809daab980ceaecb46",
       "version_major": 2,
       "version_minor": 0
      },
      "text/plain": [
       "  0%|          | 0/585 [00:00<?, ?it/s]"
      ]
     },
     "metadata": {},
     "output_type": "display_data"
    },
    {
     "name": "stdout",
     "output_type": "stream",
     "text": [
      "Number of features for Java: 2879\n"
     ]
    }
   ],
   "source": [
    "# For the small sample group\n",
    "# extract features from the code\n",
    "java_small_features = pd.DataFrame(feature_extraction(\n",
    "    df_java_small_sample, flag_lexical=True, flag_syntax=True))\n",
    "print(f\"Number of features for Java: {java_small_features.shape[1]}\")"
   ]
  },
  {
   "cell_type": "markdown",
   "id": "95dc0511-a9a2-4042-997e-3867cb5dc66c",
   "metadata": {},
   "source": [
    "### Feature selection"
   ]
  },
  {
   "cell_type": "code",
   "execution_count": 29,
   "id": "a9d25a8c-875f-4ff4-8026-914b95b423e3",
   "metadata": {},
   "outputs": [
    {
     "name": "stdout",
     "output_type": "stream",
     "text": [
      "Selecting best features...\n",
      "Feature selection lasted: 7.270125\n",
      "Number of features selected: 1500\n",
      "Selecting best features...\n",
      "Feature selection lasted: 7.762493\n",
      "Number of features selected: 1500\n"
     ]
    }
   ],
   "source": [
    "from functions.helper import feature_selection\n",
    "N_FEATURES = 1500\n",
    "\n",
    "dict_features={}\n",
    "\n",
    "dict_features[\"java_expert_features\"] = feature_selection(java_expert_features, N_FEATURES)\n",
    "dict_features[\"java_small_features\"] = feature_selection(java_small_features, N_FEATURES)"
   ]
  },
  {
   "cell_type": "code",
   "execution_count": 30,
   "id": "42c4c95d-ffbb-4113-98f5-dc71106b5dac",
   "metadata": {},
   "outputs": [],
   "source": [
    "#load previous results to update the dictionary\n",
    "import pickle\n",
    "\n",
    "# Load data (deserialize)\n",
    "with open('saved/dict_results.pickle', 'rb') as handle:\n",
    "    dict_results = pickle.load(handle)"
   ]
  },
  {
   "cell_type": "markdown",
   "id": "9f548982-eb99-406f-aeac-233e32721fcc",
   "metadata": {},
   "source": [
    "### Training Classifiers\n",
    "- For both regular and expert users"
   ]
  },
  {
   "cell_type": "code",
   "execution_count": 31,
   "id": "c5d008b4-b194-4d83-b483-19c1a1111352",
   "metadata": {
    "scrolled": true,
    "tags": []
   },
   "outputs": [
    {
     "name": "stdout",
     "output_type": "stream",
     "text": [
      "java_expert_features\n",
      "Validation #1\n",
      "Train accuracy: 1.00\n",
      "Valid accuracy: 0.97\n",
      "\n",
      "Validation #2\n",
      "Train accuracy: 1.00\n",
      "Valid accuracy: 0.94\n",
      "\n",
      "Validation #3\n",
      "Train accuracy: 1.00\n",
      "Valid accuracy: 0.98\n",
      "\n",
      "Validation #1\n",
      "Train accuracy: 1.00\n",
      "Valid accuracy: 0.99\n",
      "\n",
      "Validation #2\n",
      "Train accuracy: 1.00\n",
      "Valid accuracy: 0.96\n",
      "\n",
      "Validation #3\n",
      "Train accuracy: 1.00\n",
      "Valid accuracy: 0.96\n",
      "\n",
      "java_small_features\n",
      "Validation #1\n",
      "Train accuracy: 1.00\n",
      "Valid accuracy: 0.94\n",
      "\n",
      "Validation #2\n",
      "Train accuracy: 1.00\n",
      "Valid accuracy: 0.93\n",
      "\n",
      "Validation #3\n",
      "Train accuracy: 1.00\n",
      "Valid accuracy: 0.97\n",
      "\n",
      "Validation #1\n",
      "Train accuracy: 1.00\n",
      "Valid accuracy: 0.97\n",
      "\n",
      "Validation #2\n",
      "Train accuracy: 1.00\n",
      "Valid accuracy: 0.99\n",
      "\n",
      "Validation #3\n",
      "Train accuracy: 1.00\n",
      "Valid accuracy: 0.97\n",
      "\n"
     ]
    }
   ],
   "source": [
    "from functions.models import *\n",
    "for key, value in dict_features.items():\n",
    "    X=value[\"X\"]\n",
    "    y=value[\"y\"]\n",
    "    print(key)\n",
    "    \n",
    "    #CatBoost\n",
    "    train_accs, valid_accs = catboost_classifier(X, y)\n",
    "    dict_features[key][\"catboost_valid_acc\"] = valid_accs\n",
    "    \n",
    "    #Random Forest\n",
    "    train_accs, valid_accs = random_forest_classifier(X, y)\n",
    "    dict_features[key][\"forest_valid_acc\"] = valid_accs    \n",
    "    \n",
    "    dict_results[key] = dict_features[key]    \n",
    "\n",
    "with open('saved/dict_results.pickle', 'wb') as handle:\n",
    "    pickle.dump(dict_results, handle, protocol=pickle.HIGHEST_PROTOCOL)\n"
   ]
  },
  {
   "cell_type": "markdown",
   "id": "ac1dcc31-9f24-4a4f-92a9-082eb5d20a35",
   "metadata": {},
   "source": [
    "### Load pickled results including expert users"
   ]
  },
  {
   "cell_type": "code",
   "execution_count": 32,
   "id": "251cc048-31c2-466a-8773-08ecf078840f",
   "metadata": {},
   "outputs": [],
   "source": [
    "with open('saved/dict_results.pickle', 'rb') as handle:\n",
    "    dict_results = pickle.load(handle)\n",
    "    "
   ]
  },
  {
   "cell_type": "code",
   "execution_count": 33,
   "id": "9b0b44cf-4a71-4290-94db-19a57d7ad690",
   "metadata": {},
   "outputs": [
    {
     "name": "stdout",
     "output_type": "stream",
     "text": [
      "java_features_full\n",
      "Random forest: 0.95\n",
      "CatBoost: 0.94 \n",
      "\n",
      "java_features_layout\n",
      "Random forest: 0.44\n",
      "CatBoost: 0.33 \n",
      "\n",
      "java_features_lexical\n",
      "Random forest: 0.96\n",
      "CatBoost: 0.95 \n",
      "\n",
      "java_features_syntax\n",
      "Random forest: 0.82\n",
      "CatBoost: 0.80 \n",
      "\n",
      "cpp_features_layout\n",
      "Random forest: 0.47\n",
      "CatBoost: 0.38 \n",
      "\n",
      "java_expert_features\n",
      "Random forest: 0.97\n",
      "CatBoost: 0.96 \n",
      "\n",
      "java_small_features\n",
      "Random forest: 0.98\n",
      "CatBoost: 0.95 \n",
      "\n"
     ]
    }
   ],
   "source": [
    "for key, value in dict_results.items():\n",
    "    dict_results[key]['forest_valid_acc_mean'] = np.mean(dict_results[key]['forest_valid_acc'])\n",
    "    dict_results[key]['catboost_valid_acc_mean'] = np.mean(dict_results[key]['catboost_valid_acc'])\n",
    "\n",
    "for key, value in dict_results.items():\n",
    "    print(key)\n",
    "    print(f\"Random forest: {dict_results[key]['forest_valid_acc_mean']:0.2f}\")\n",
    "    print(f\"CatBoost: {dict_results[key]['catboost_valid_acc_mean']:0.2f} \\n\")"
   ]
  },
  {
   "cell_type": "code",
   "execution_count": 34,
   "id": "4d30d021-c575-4492-a550-ef076c4f1f30",
   "metadata": {},
   "outputs": [],
   "source": [
    "# save results with pickle\n",
    "with open('saved/dict_results_expert.pickle', 'wb') as handle:\n",
    "    pickle.dump(dict_results, handle, protocol=pickle.HIGHEST_PROTOCOL)"
   ]
  },
  {
   "cell_type": "markdown",
   "id": "b8535f76-3541-434c-af9f-4f35adfa11c5",
   "metadata": {},
   "source": [
    "## Testing performance for different numbers of features\n",
    "\n"
   ]
  },
  {
   "cell_type": "code",
   "execution_count": 37,
   "id": "e93586cc-083e-4edb-bf0e-1efcc5462c87",
   "metadata": {},
   "outputs": [],
   "source": [
    "#load pickled results\n",
    "with open('saved/dict_features.pickle', 'rb') as handle:\n",
    "    dict_features = pickle.load(handle)"
   ]
  },
  {
   "cell_type": "code",
   "execution_count": 38,
   "id": "d6b52eb3-1940-4d2c-8d1c-3595e7b012dd",
   "metadata": {
    "scrolled": true,
    "tags": []
   },
   "outputs": [
    {
     "name": "stdout",
     "output_type": "stream",
     "text": [
      "*** 10 ***\n",
      "Validation #1\n",
      "Train accuracy: 1.00\n",
      "Valid accuracy: 0.61\n",
      "\n",
      "Validation #2\n",
      "Train accuracy: 1.00\n",
      "Valid accuracy: 0.56\n",
      "\n",
      "Validation #3\n",
      "Train accuracy: 1.00\n",
      "Valid accuracy: 0.61\n",
      "\n",
      "*** 50 ***\n",
      "Validation #1\n",
      "Train accuracy: 1.00\n",
      "Valid accuracy: 0.68\n",
      "\n",
      "Validation #2\n",
      "Train accuracy: 1.00\n",
      "Valid accuracy: 0.67\n",
      "\n",
      "Validation #3\n",
      "Train accuracy: 1.00\n",
      "Valid accuracy: 0.70\n",
      "\n",
      "*** 100 ***\n",
      "Validation #1\n",
      "Train accuracy: 1.00\n",
      "Valid accuracy: 0.74\n",
      "\n",
      "Validation #2\n",
      "Train accuracy: 1.00\n",
      "Valid accuracy: 0.73\n",
      "\n",
      "Validation #3\n",
      "Train accuracy: 1.00\n",
      "Valid accuracy: 0.76\n",
      "\n",
      "*** 200 ***\n",
      "Validation #1\n",
      "Train accuracy: 1.00\n",
      "Valid accuracy: 0.90\n",
      "\n",
      "Validation #2\n",
      "Train accuracy: 1.00\n",
      "Valid accuracy: 0.90\n",
      "\n",
      "Validation #3\n",
      "Train accuracy: 1.00\n",
      "Valid accuracy: 0.91\n",
      "\n",
      "*** 300 ***\n",
      "Validation #1\n",
      "Train accuracy: 1.00\n",
      "Valid accuracy: 0.94\n",
      "\n",
      "Validation #2\n",
      "Train accuracy: 1.00\n",
      "Valid accuracy: 0.93\n",
      "\n",
      "Validation #3\n",
      "Train accuracy: 1.00\n",
      "Valid accuracy: 0.93\n",
      "\n",
      "*** 400 ***\n",
      "Validation #1\n",
      "Train accuracy: 1.00\n",
      "Valid accuracy: 0.95\n",
      "\n",
      "Validation #2\n",
      "Train accuracy: 1.00\n",
      "Valid accuracy: 0.95\n",
      "\n",
      "Validation #3\n",
      "Train accuracy: 1.00\n",
      "Valid accuracy: 0.95\n",
      "\n",
      "*** 500 ***\n",
      "Validation #1\n",
      "Train accuracy: 1.00\n",
      "Valid accuracy: 0.95\n",
      "\n",
      "Validation #2\n",
      "Train accuracy: 1.00\n",
      "Valid accuracy: 0.95\n",
      "\n",
      "Validation #3\n",
      "Train accuracy: 1.00\n",
      "Valid accuracy: 0.95\n",
      "\n",
      "*** 600 ***\n",
      "Validation #1\n",
      "Train accuracy: 1.00\n",
      "Valid accuracy: 0.95\n",
      "\n",
      "Validation #2\n",
      "Train accuracy: 1.00\n",
      "Valid accuracy: 0.95\n",
      "\n",
      "Validation #3\n",
      "Train accuracy: 1.00\n",
      "Valid accuracy: 0.95\n",
      "\n",
      "*** 700 ***\n",
      "Validation #1\n",
      "Train accuracy: 1.00\n",
      "Valid accuracy: 0.96\n",
      "\n",
      "Validation #2\n",
      "Train accuracy: 1.00\n",
      "Valid accuracy: 0.96\n",
      "\n",
      "Validation #3\n",
      "Train accuracy: 1.00\n",
      "Valid accuracy: 0.95\n",
      "\n",
      "*** 800 ***\n",
      "Validation #1\n",
      "Train accuracy: 1.00\n",
      "Valid accuracy: 0.95\n",
      "\n",
      "Validation #2\n",
      "Train accuracy: 1.00\n",
      "Valid accuracy: 0.96\n",
      "\n",
      "Validation #3\n",
      "Train accuracy: 1.00\n",
      "Valid accuracy: 0.95\n",
      "\n",
      "*** 900 ***\n",
      "Validation #1\n",
      "Train accuracy: 1.00\n",
      "Valid accuracy: 0.95\n",
      "\n",
      "Validation #2\n",
      "Train accuracy: 1.00\n",
      "Valid accuracy: 0.96\n",
      "\n",
      "Validation #3\n",
      "Train accuracy: 1.00\n",
      "Valid accuracy: 0.95\n",
      "\n",
      "*** 1000 ***\n",
      "Validation #1\n",
      "Train accuracy: 1.00\n",
      "Valid accuracy: 0.96\n",
      "\n",
      "Validation #2\n",
      "Train accuracy: 1.00\n",
      "Valid accuracy: 0.96\n",
      "\n",
      "Validation #3\n",
      "Train accuracy: 1.00\n",
      "Valid accuracy: 0.95\n",
      "\n",
      "*** 1100 ***\n",
      "Validation #1\n",
      "Train accuracy: 1.00\n",
      "Valid accuracy: 0.96\n",
      "\n",
      "Validation #2\n",
      "Train accuracy: 1.00\n",
      "Valid accuracy: 0.97\n",
      "\n",
      "Validation #3\n",
      "Train accuracy: 1.00\n",
      "Valid accuracy: 0.95\n",
      "\n",
      "*** 1200 ***\n",
      "Validation #1\n",
      "Train accuracy: 1.00\n",
      "Valid accuracy: 0.96\n",
      "\n",
      "Validation #2\n",
      "Train accuracy: 1.00\n",
      "Valid accuracy: 0.95\n",
      "\n",
      "Validation #3\n",
      "Train accuracy: 1.00\n",
      "Valid accuracy: 0.95\n",
      "\n",
      "*** 1300 ***\n",
      "Validation #1\n",
      "Train accuracy: 1.00\n",
      "Valid accuracy: 0.95\n",
      "\n",
      "Validation #2\n",
      "Train accuracy: 1.00\n",
      "Valid accuracy: 0.96\n",
      "\n",
      "Validation #3\n",
      "Train accuracy: 1.00\n",
      "Valid accuracy: 0.95\n",
      "\n",
      "*** 1400 ***\n",
      "Validation #1\n",
      "Train accuracy: 1.00\n",
      "Valid accuracy: 0.96\n",
      "\n",
      "Validation #2\n",
      "Train accuracy: 1.00\n",
      "Valid accuracy: 0.96\n",
      "\n",
      "Validation #3\n",
      "Train accuracy: 1.00\n",
      "Valid accuracy: 0.96\n",
      "\n",
      "*** 1500 ***\n",
      "Validation #1\n",
      "Train accuracy: 1.00\n",
      "Valid accuracy: 0.95\n",
      "\n",
      "Validation #2\n",
      "Train accuracy: 1.00\n",
      "Valid accuracy: 0.95\n",
      "\n",
      "Validation #3\n",
      "Train accuracy: 1.00\n",
      "Valid accuracy: 0.95\n",
      "\n",
      "*** 2000 ***\n",
      "Validation #1\n",
      "Train accuracy: 1.00\n",
      "Valid accuracy: 0.95\n",
      "\n",
      "Validation #2\n",
      "Train accuracy: 1.00\n",
      "Valid accuracy: 0.96\n",
      "\n",
      "Validation #3\n",
      "Train accuracy: 1.00\n",
      "Valid accuracy: 0.95\n",
      "\n",
      "*** 2500 ***\n",
      "Validation #1\n",
      "Train accuracy: 1.00\n",
      "Valid accuracy: 0.95\n",
      "\n",
      "Validation #2\n",
      "Train accuracy: 1.00\n",
      "Valid accuracy: 0.96\n",
      "\n",
      "Validation #3\n",
      "Train accuracy: 1.00\n",
      "Valid accuracy: 0.96\n",
      "\n"
     ]
    }
   ],
   "source": [
    "from functions.helper import feature_selection\n",
    "from functions.models import *\n",
    "\n",
    "number_features = [10,50] + list(range(100,1500,100)) + [1500, 2000, 2500]\n",
    "dict_test={}\n",
    "key = \"java_features_full\"\n",
    "features = dict_features[key]['X']\n",
    "targets = dict_features[key]['y']\n",
    "validation_accs_list =[]\n",
    "dict_results_testing = dict_results\n",
    "\n",
    "for num in number_features:\n",
    "    print(f\"*** {num} ***\")\n",
    "    current_features = features.iloc[:,:num]\n",
    "    \n",
    "    res_string = f\"forest_valid_acc_{num}\"\n",
    "    \n",
    "    train_accs, valid_accs = random_forest_classifier(current_features, targets, 100)\n",
    "    \n",
    "    validation_accs_list.append(np.mean(valid_accs))\n",
    "    \n",
    "    dict_results_testing[key][res_string] = valid_accs\n",
    "    \n",
    "with open('saved/dict_results_testing.pickle', 'wb') as handle:\n",
    "    pickle.dump(dict_results_testing, handle, protocol=pickle.HIGHEST_PROTOCOL)"
   ]
  },
  {
   "cell_type": "code",
   "execution_count": 39,
   "id": "f1da2b92-1446-4008-b37a-bc8efad69a05",
   "metadata": {},
   "outputs": [],
   "source": [
    "with open('saved/dict_results_testing.pickle', 'rb') as handle:\n",
    "    dict_results_testing = pickle.load(handle)"
   ]
  },
  {
   "cell_type": "code",
   "execution_count": 40,
   "id": "a25788ad-076d-4b50-a13d-e459387b308c",
   "metadata": {},
   "outputs": [],
   "source": [
    "# retrive all validation accuracies from the pickle file\n",
    "number_features = [10,50] + list(range(100,1500,100)) + [1500, 2000, 2500]\n",
    "dict_test={}\n",
    "key = \"java_features_full\"\n",
    "validation_accs_list =[]\n",
    "features = dict_results_testing[key]['X']\n",
    "for num in number_features:\n",
    "    res_string = f\"forest_valid_acc_{num}\"\n",
    "    valid_accs = dict_results_testing[key][res_string] \n",
    "    validation_accs_list.append(np.mean(valid_accs))\n",
    "##"
   ]
  },
  {
   "cell_type": "code",
   "execution_count": 41,
   "id": "5ac44451-9bf0-48ef-bfc3-b4dd8eb34cf6",
   "metadata": {},
   "outputs": [
    {
     "data": {
      "image/png": "[encoded data removed]",
      "text/plain": [
       "<Figure size 640x480 with 1 Axes>"
      ]
     },
     "metadata": {},
     "output_type": "display_data"
    }
   ],
   "source": [
    "import matplotlib.pyplot as plt\n",
    "number_features = [10,50] + list(range(100,1500,100)) + [1500, 2000, 2500]\n",
    "\n",
    "fig, ax = plt.subplots()\n",
    "ax.plot(number_features[:18], validation_accs_list[:18])\n",
    "ax.axvspan(700, 1500, alpha=0.1, color='green')\n",
    "ax.axvspan(0, 200, alpha=0.1, color='red')\n",
    "plt.xlabel(\"Number of features\")\n",
    "plt.ylabel(\"Accuracy on CV\")\n",
    "plt.title(\"Accuracy dependent on number of features\")\n",
    "#plt.legend()\n",
    "plt.show()"
   ]
  },
  {
   "cell_type": "code",
   "execution_count": 42,
   "id": "c6e1b3a5-7dbc-4323-b748-0ad8286f00b3",
   "metadata": {},
   "outputs": [],
   "source": [
    "with open('saved/dict_results_testing.pickle', 'wb') as handle:\n",
    "    pickle.dump(dict_results_testing, handle, protocol=pickle.HIGHEST_PROTOCOL)"
   ]
  },
  {
   "cell_type": "markdown",
   "id": "3968f733-df83-42b1-a3ee-fb86ee7cc8ae",
   "metadata": {},
   "source": [
    "## Analyzing type of features"
   ]
  },
  {
   "cell_type": "code",
   "execution_count": 43,
   "id": "95e991aa-8872-45ec-8802-cb6d17d46699",
   "metadata": {
    "scrolled": true,
    "tags": []
   },
   "outputs": [],
   "source": [
    "key = \"java_features_full\"\n",
    "current_mi = np.flip(dict_results[key][\"mi\"])\n",
    "current_X = dict_results[key][\"X\"]\n",
    "\n",
    "features_mi_dict = dict(zip(current_X.columns,current_mi))"
   ]
  },
  {
   "cell_type": "code",
   "execution_count": 44,
   "id": "8a10efb4-8b82-43d3-8d7e-8938256b3a1e",
   "metadata": {},
   "outputs": [],
   "source": [
    "# gets features for each feature type (layout, lexical, syntax)\n",
    "\n",
    "def extract_features_by_type(features_mi_dict, num_features, type_of_feature=\"layout\"):\n",
    "\n",
    "    feature_dict={}\n",
    "    \n",
    "    for key, value in list(features_mi_dict.items())[:num_features]:\n",
    "        \n",
    "        if ((key.lower()).startswith(type_of_feature.lower())):\n",
    "            feature_dict.update({key:value})\n",
    "\n",
    "            \n",
    "    return feature_dict"
   ]
  },
  {
   "cell_type": "code",
   "execution_count": 45,
   "id": "0cd78635-73b7-45dd-b8d5-2a0b70144fda",
   "metadata": {},
   "outputs": [],
   "source": [
    "# Calculating the cumulative mutual information for all feature types\n",
    "\n",
    "# total number of features from 10 to 1500\n",
    "total_features = [10, 20, 50, 100, 200, 500, 750, 1000, 1500 ]\n",
    "lex_mi=[]\n",
    "syn_mi=[]\n",
    "lay_mi=[]\n",
    "\n",
    "for num_feature in total_features:\n",
    "    lexical_features = extract_features_by_type(features_mi_dict, num_feature, \"lexical\")    \n",
    "    syntax_features = extract_features_by_type(features_mi_dict, num_feature, \"syntax\")    \n",
    "    layout_features = extract_features_by_type(features_mi_dict, num_feature, \"layout\")  \n",
    "        \n",
    "    lex_mi_curr = (np.sum(list(lexical_features.values())))\n",
    "    syn_mi_curr = (np.sum(list(syntax_features.values())))\n",
    "    lay_mi_curr = (np.sum(list(layout_features.values())))\n",
    "    sum_mi = lex_mi_curr + syn_mi_curr + lay_mi_curr\n",
    "    lex_mi.append(lex_mi_curr/sum_mi)\n",
    "    syn_mi.append(syn_mi_curr/sum_mi)\n",
    "    lay_mi.append(lay_mi_curr/sum_mi)"
   ]
  },
  {
   "cell_type": "code",
   "execution_count": 46,
   "id": "e58e942f-4854-4dc1-8928-f91bc942dde4",
   "metadata": {},
   "outputs": [
    {
     "data": {
      "image/png": "[encoded data removed]",
      "text/plain": [
       "<Figure size 640x480 with 1 Axes>"
      ]
     },
     "metadata": {},
     "output_type": "display_data"
    }
   ],
   "source": [
    "# plotting mutual information values\n",
    "X_axis = np.arange(len(total_features))\n",
    "\n",
    "plt.bar(X_axis, lay_mi, label = 'Layout', edgecolor='black')\n",
    "plt.bar(X_axis, lex_mi, label = 'Lexical', edgecolor='black', bottom= np.array(lay_mi))\n",
    "plt.bar(X_axis, syn_mi, label = 'Syntax',edgecolor='black', bottom=np.array(lex_mi)+np.array(lay_mi))\n",
    "np.array(lex_mi)+np.array(syn_mi)+np.array(lay_mi)\n",
    "\n",
    "plt.rcParams.update(plt.rcParamsDefault)\n",
    "plt.xticks(X_axis, total_features)\n",
    "plt.xlabel(\"Number of features\")\n",
    "plt.ylabel(\"Percentage of Mutual Information\")\n",
    "plt.title(\"Mutual information per feature type\")\n",
    "plt.legend()\n",
    "plt.xticks(rotation=30)\n",
    "plt.show()    \n"
   ]
  },
  {
   "cell_type": "code",
   "execution_count": 47,
   "id": "95e5044c-7e05-48fc-86ab-261e671db440",
   "metadata": {},
   "outputs": [
    {
     "data": {
      "image/png": "[encoded data removed]",
      "text/plain": [
       "<Figure size 640x480 with 1 Axes>"
      ]
     },
     "metadata": {},
     "output_type": "display_data"
    }
   ],
   "source": [
    "# plotting mutual information per feature\n",
    "key = \"java_features_full\"\n",
    "\n",
    "current_mi = np.flip(dict_results[key][\"mi\"][-1500:])\n",
    "plt.plot(current_mi)\n",
    "plt.axhline(y=0.0, color='r', linestyle='-.')\n",
    "\n",
    "plt.xlabel(\"Features sorted by MI\")\n",
    "plt.ylabel(\"Mutual Information\")\n",
    "plt.show()"
   ]
  },
  {
   "cell_type": "markdown",
   "id": "166b0434",
   "metadata": {},
   "source": [
    "### Creating validation data\n",
    "- Users - those that were sampled from the original data (2009)\n",
    "- Features - full feature set extracted from 2009 data"
   ]
  },
  {
   "cell_type": "markdown",
   "id": "972d7251-f04e-4744-8065-a6f2a09f9a52",
   "metadata": {},
   "source": [
    "**Currently unnecessary since the contents of the .csv are already stored in the pickle files.**"
   ]
  },
  {
   "cell_type": "code",
   "execution_count": 48,
   "id": "078366f7-5ee8-4420-bba5-f59c93919a4d",
   "metadata": {},
   "outputs": [],
   "source": [
    "#Extract Java code for 2010\n",
    "#df_java_raw_validation = dataframe_from_csv(suffix = \".java\", year = \"2010\")\n",
    "#with open('saved/df_java_raw_validation.pickle', 'wb') as handle:\n",
    "#    pickle.dump(df_java_raw_validation, handle, protocol=pickle.HIGHEST_PROTOCOL)"
   ]
  },
  {
   "cell_type": "code",
   "execution_count": 49,
   "id": "6500c962-8170-4f7d-8af1-edbca3f27a5f",
   "metadata": {},
   "outputs": [
    {
     "name": "stdout",
     "output_type": "stream",
     "text": [
      "Before filtering we have: 14204 files\n"
     ]
    }
   ],
   "source": [
    "# load the pickled dataset from 2010\n",
    "with open('saved/df_java_raw_validation.pickle', 'rb') as handle:\n",
    "    df_java_raw_validation = pickle.load(handle)\n",
    "    \n",
    "df_java_validation = prepare_dataframe(df_java_raw_validation)\n",
    "print(f\"Before filtering we have: {df_java_validation.shape[0]} files\")"
   ]
  },
  {
   "cell_type": "code",
   "execution_count": 50,
   "id": "4df21c80-2f09-4359-9060-5deed29c1d2e",
   "metadata": {},
   "outputs": [],
   "source": [
    "# Load the users that were observed during the training\n",
    "with open('saved/sampled_users.pickle', 'rb') as handle:\n",
    "    sampled_users = pickle.load(handle)\n",
    "    \n",
    "usernames = list(sampled_users['username'])\n",
    "sampled_users_dict = dict(zip(sampled_users.username,sampled_users.user_id))\n",
    "\n",
    "#Keep only files for users seen in training\n",
    "df_java_validation = df_java_validation.loc[df_java_validation.apply(lambda x: x.username in usernames , axis=1)]\n",
    "\n"
   ]
  },
  {
   "cell_type": "code",
   "execution_count": 51,
   "id": "3f5c745f-dd28-498c-95a6-90f82db87bd2",
   "metadata": {},
   "outputs": [
    {
     "name": "stdout",
     "output_type": "stream",
     "text": [
      "After filtering we have: 1775 files\n"
     ]
    }
   ],
   "source": [
    "# Set the ids to values used during training (user_id is our target variablee)\n",
    "new_ids = []\n",
    "for index, row in df_java_validation.iterrows():\n",
    "    new_ids.append(sampled_users_dict[row['username']])\n",
    "df_java_validation['user_id'] = new_ids\n",
    "print(f\"After filtering we have: {df_java_validation.shape[0]} files\")"
   ]
  },
  {
   "cell_type": "code",
   "execution_count": 52,
   "id": "9f256dff",
   "metadata": {},
   "outputs": [
    {
     "data": {
      "application/vnd.jupyter.widget-view+json": {
       "model_id": "6944dfc767804adb8a5bb6bf3d7be511",
       "version_major": 2,
       "version_minor": 0
      },
      "text/plain": [
       "  0%|          | 0/1775 [00:00<?, ?it/s]"
      ]
     },
     "metadata": {},
     "output_type": "display_data"
    }
   ],
   "source": [
    "# Perform feature extraction on validation dataset\n",
    "java_features_validation = pd.DataFrame(feature_extraction(\n",
    "    df_java_validation, flag_lexical=True, flag_syntax=True))\n",
    "\n",
    "# Extract the labels (usernames)\n",
    "y_validation = java_features_validation['user_id']"
   ]
  },
  {
   "cell_type": "code",
   "execution_count": 53,
   "id": "9dae7f2c",
   "metadata": {},
   "outputs": [
    {
     "data": {
      "text/plain": [
       "(1775, 750)"
      ]
     },
     "execution_count": 53,
     "metadata": {},
     "output_type": "execute_result"
    }
   ],
   "source": [
    "with open('saved/dict_results.pickle', 'rb') as handle:\n",
    "    dict_results = pickle.load(handle)\n",
    "\n",
    "# We extract the top 1000 features from the training (java_features_full)\n",
    "num_features = 1000\n",
    "value = dict_results['java_features_full']\n",
    "num_features_curr = np.min([num_features, value[\"X\"].shape[1]])\n",
    "value[\"X\"] = value[\"X\"].iloc[:,:num_features_curr]\n",
    "\n",
    "# Features present in the training set and current validation (which need to be fixed)\n",
    "training_features = list(dict_results['java_features_full']['X'].columns)\n",
    "validation_features = list(java_features_validation.columns)\n",
    "\n",
    "common_features = list(set(training_features) & set(validation_features))\n",
    "difference = list(set(training_features) - set(validation_features))\n",
    "java_features_validation = java_features_validation[common_features]\n",
    "java_features_validation = java_features_validation.reindex(java_features_validation.columns.tolist() + difference, axis=1) \n",
    "\n",
    "java_features_validation.shape"
   ]
  },
  {
   "cell_type": "markdown",
   "id": "105e397c-9c36-4fca-a1dd-447a04317127",
   "metadata": {},
   "source": [
    "### Fitting model on training data (2009) and validating on test data (2010)"
   ]
  },
  {
   "cell_type": "code",
   "execution_count": 54,
   "id": "03891806-021b-452b-886d-c1700c8358d7",
   "metadata": {
    "scrolled": true,
    "tags": []
   },
   "outputs": [
    {
     "name": "stdout",
     "output_type": "stream",
     "text": [
      "Random Forest Train accuracy: 1.00\n",
      "CatBoost Train accuracy: 1.00\n",
      "Random Forest Valid accuracy: 0.78\n",
      "CatBoost Valid accuracy: 0.77\n"
     ]
    }
   ],
   "source": [
    "# fitting models\n",
    "from functions.models import *\n",
    "value = dict_results[\"java_features_full\"]\n",
    "\n",
    "train_accs_rf = []\n",
    "valid_accs_rf = []\n",
    "train_accs_cb = []\n",
    "valid_accs_cb = []\n",
    "\n",
    "X_train, X_valid = value[\"X\"], java_features_validation[value[\"X\"].columns]\n",
    "y_train, y_valid = value[\"y\"], y_validation\n",
    "X_train.fillna(0, inplace=True)\n",
    "X_valid.fillna(0, inplace=True)\n",
    "\n",
    "model_rf = RandomForestClassifier(n_estimators=300, random_state=0)\n",
    "model_cb = CatBoostClassifier(\n",
    "            iterations=500, \n",
    "            learning_rate=0.2,\n",
    "            rsm=0.01,\n",
    "            depth=3,\n",
    "            bootstrap_type='Bernoulli',\n",
    "            subsample=0.7,\n",
    "            loss_function='MultiClass'\n",
    "        )\n",
    "model_rf.fit(X_train, y_train)\n",
    "model_cb.fit(X_train, y_train, plot=False, verbose=False)\n",
    "\n",
    "y_pred_rf = model_rf.predict(X_train).squeeze()\n",
    "y_pred_cb = model_cb.predict(X_train).squeeze()\n",
    "\n",
    "train_acc_rf = np.average(y_train == y_pred_rf)\n",
    "train_acc_cb = np.average(y_train == y_pred_cb)\n",
    "\n",
    "print(f'Random Forest Train accuracy: {train_acc_rf:.2f}')\n",
    "train_accs_rf.append(train_acc_cb)\n",
    "print(f'CatBoost Train accuracy: {train_acc_cb:.2f}')\n",
    "train_accs_rf.append(train_acc_cb)\n",
    "\n",
    "y_pred_rf = model_rf.predict(X_valid).squeeze()\n",
    "y_pred_cb = model_cb.predict(X_valid).squeeze()\n",
    "\n",
    "valid_acc_rf = np.average(y_valid == y_pred_rf)\n",
    "valid_acc_cb = np.average(y_valid == y_pred_cb)\n",
    "\n",
    "print(f'Random Forest Valid accuracy: {valid_acc_rf:.2f}')\n",
    "print(f'CatBoost Valid accuracy: {valid_acc_cb:.2f}')"
   ]
  },
  {
   "cell_type": "code",
   "execution_count": 55,
   "id": "2e946f49-4cca-4c23-8e40-609db5b84c5c",
   "metadata": {},
   "outputs": [],
   "source": [
    "# adding validation accuracy to the dictionary\n",
    "dict_results[\"java_features_full\"][\"validation_set_forest_accuracy\"] = valid_acc_rf\n",
    "dict_results[\"java_features_full\"][\"validation_set_catboost_accuracy\"] = valid_acc_cb"
   ]
  },
  {
   "cell_type": "code",
   "execution_count": 56,
   "id": "42958086-8b4f-46f3-9d97-56bbcddb5719",
   "metadata": {},
   "outputs": [],
   "source": [
    "# saving the dictionary with pickle\n",
    "with open('saved/dict_results.pickle', 'wb') as handle:\n",
    "    pickle.dump(dict_results, handle, protocol=pickle.HIGHEST_PROTOCOL)\n"
   ]
  },
  {
   "cell_type": "code",
   "execution_count": null,
   "id": "22bff04d-7996-4528-94f4-53bfdf1bafb3",
   "metadata": {},
   "outputs": [],
   "source": []
  }
 ],
 "metadata": {
  "kernelspec": {
   "display_name": "Python 3",
   "language": "python",
   "name": "python3"
  },
  "language_info": {
   "codemirror_mode": {
    "name": "ipython",
    "version": 3
   },
   "file_extension": ".py",
   "mimetype": "text/x-python",
   "name": "python",
   "nbconvert_exporter": "python",
   "pygments_lexer": "ipython3",
   "version": "3.8.8"
  },
  "vscode": {
   "interpreter": {
    "hash": "ad2bdc8ecc057115af97d19610ffacc2b4e99fae6737bb82f5d7fb13d2f2c186"
   }
  }
 },
 "nbformat": 4,
 "nbformat_minor": 5
}
